{
 "cells": [
  {
   "cell_type": "code",
   "execution_count": 40,
   "metadata": {},
   "outputs": [
    {
     "name": "stdout",
     "output_type": "stream",
     "text": [
      "s\n",
      "d\n",
      "r\n",
      "a\n",
      "w\n",
      "k\n",
      "c\n",
      "a\n",
      "b\n",
      " \n",
      "s\n",
      "i\n",
      "h\n",
      "t\n",
      " \n",
      "t\n",
      "n\n",
      "i\n",
      "r\n",
      "p\n",
      "print this backwards"
     ]
    }
   ],
   "source": [
    "# string = 'print this backwards'\n",
    "stringback = ''\n",
    "for i in range(1,len(string)+1):\n",
    "    print(string[-i])\n",
    "    stringback += string[-i]\n",
    "    \n",
    "\n",
    "    \n",
    "for i in range(1, len(stringback)+1):\n",
    "    print(stringback[-i], end='')"
   ]
  }
 ],
 "metadata": {
  "kernelspec": {
   "display_name": "Python 3",
   "language": "python",
   "name": "python3"
  },
  "language_info": {
   "codemirror_mode": {
    "name": "ipython",
    "version": 3
   },
   "file_extension": ".py",
   "mimetype": "text/x-python",
   "name": "python",
   "nbconvert_exporter": "python",
   "pygments_lexer": "ipython3",
   "version": "3.6.9"
  }
 },
 "nbformat": 4,
 "nbformat_minor": 4
}
