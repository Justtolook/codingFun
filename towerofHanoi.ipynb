{
 "cells": [
  {
   "cell_type": "markdown",
   "metadata": {},
   "source": [
    "# Tower of Hanoi solvers"
   ]
  },
  {
   "cell_type": "code",
   "execution_count": 4,
   "metadata": {},
   "outputs": [],
   "source": [
    "import numpy"
   ]
  },
  {
   "cell_type": "code",
   "execution_count": 113,
   "metadata": {},
   "outputs": [],
   "source": [
    "def printBoard():\n",
    "    i = 0\n",
    "    for row in board:\n",
    "        print(i, end=' ')\n",
    "        for cell in row:\n",
    "            print(cell, end=' ')\n",
    "        i+=1\n",
    "        print( )\n",
    "    print(\"-----\")"
   ]
  },
  {
   "cell_type": "code",
   "execution_count": 122,
   "metadata": {},
   "outputs": [],
   "source": [
    "def solver(disk, src, dst, aux):\n",
    "    if disk == 1:\n",
    "        board[dst].append(board[src][-1])\n",
    "        board[src].pop() \n",
    "        printBoard()\n",
    "        return\n",
    "    else:\n",
    "        solver(disk-1, src, aux, dst)\n",
    "        board[dst].append(board[src][-1])\n",
    "        board[src].pop()\n",
    "        solver(disk-1, aux, dst, src)\n",
    "    \n",
    "    "
   ]
  },
  {
   "cell_type": "code",
   "execution_count": 92,
   "metadata": {},
   "outputs": [],
   "source": [
    "def startHanoi(height):\n",
    "    for x in range(1, height+1):\n",
    "        board[0].append(x)\n",
    "    printBoard()\n",
    "    solver(height, 0, 2, 1)\n",
    "    return"
   ]
  },
  {
   "cell_type": "code",
   "execution_count": 123,
   "metadata": {},
   "outputs": [
    {
     "name": "stdout",
     "output_type": "stream",
     "text": [
      "0 1 2 3 4 \n",
      "1 \n",
      "2 \n",
      "-----\n",
      "0 1 2 3 \n",
      "1 4 \n",
      "2 \n",
      "-----\n",
      "0 1 2 \n",
      "1 \n",
      "2 3 4 \n",
      "-----\n",
      "0 1 4 \n",
      "1 2 \n",
      "2 3 \n",
      "-----\n",
      "0 1 \n",
      "1 2 3 4 \n",
      "2 \n",
      "-----\n",
      "0 \n",
      "1 2 3 \n",
      "2 1 4 \n",
      "-----\n",
      "0 3 4 \n",
      "1 2 \n",
      "2 1 \n",
      "-----\n",
      "0 3 \n",
      "1 4 \n",
      "2 1 2 \n",
      "-----\n",
      "0 \n",
      "1 \n",
      "2 1 2 3 4 \n",
      "-----\n"
     ]
    }
   ],
   "source": [
    "board = [[],[],[]]\n",
    "\n",
    "startHanoi(4)"
   ]
  }
 ],
 "metadata": {
  "kernelspec": {
   "display_name": "Python 3",
   "language": "python",
   "name": "python3"
  },
  "language_info": {
   "codemirror_mode": {
    "name": "ipython",
    "version": 3
   },
   "file_extension": ".py",
   "mimetype": "text/x-python",
   "name": "python",
   "nbconvert_exporter": "python",
   "pygments_lexer": "ipython3",
   "version": "3.6.9"
  }
 },
 "nbformat": 4,
 "nbformat_minor": 4
}
